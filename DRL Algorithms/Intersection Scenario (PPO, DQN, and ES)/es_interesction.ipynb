{
  "nbformat": 4,
  "nbformat_minor": 0,
  "metadata": {
    "colab": {
      "name": "Project_3.ipynb",
      "provenance": [],
      "collapsed_sections": [],
      "toc_visible": true
    },
    "kernelspec": {
      "display_name": "Python 3",
      "name": "python3"
    },
    "accelerator": "GPU"
  },
  "cells": [
    {
      "cell_type": "markdown",
      "metadata": {
        "id": "KII1oLur2bt3"
      },
      "source": [
        "### Install necessary libraries and import packages\n"
      ]
    },
    {
      "cell_type": "code",
      "metadata": {
        "colab": {
          "base_uri": "https://localhost:8080/"
        },
        "id": "2tPure4Ay6Cj",
        "outputId": "58b40515-c765-474c-bff8-e5db6e823263"
      },
      "source": [
        "# Environment\n",
        "!pip install highway-env\n",
        "import gym\n",
        "import highway_env\n",
        "\n",
        "!apt-get update\n",
        "!apt-get install xvfb\n",
        "!apt-get install x11-utils\n",
        "!apt-get install ffmpeg\n",
        "!apt-get install python-opengl \n",
        "!pip -q install gym pyvirtualdisplay pygame\n",
        "\n",
        "\n",
        "\n",
        "#import pygame\n",
        "gym.logger.set_level(40) # suppress warnings on gym\n",
        "\n",
        "# Models and computation\n",
        "import torch # will use pyTorch to handle NN \n",
        "import torch.nn as nn\n",
        "import torch.nn.functional as F\n",
        "import torch.optim as optim\n",
        "import numpy as np\n",
        "from collections import deque\n",
        "import random\n",
        "from random import sample\n",
        "\n",
        "# Visualization\n",
        "import matplotlib\n",
        "import matplotlib.pyplot as plt\n",
        "%matplotlib inline\n",
        "from IPython import display as ipythondisplay\n",
        "from pyvirtualdisplay import Display\n",
        "from gym.wrappers import Monitor\n",
        "import base64\n",
        "\n",
        "# IO\n",
        "from pathlib import Path\n",
        "import os \n"
      ],
      "execution_count": 1,
      "outputs": [
        {
          "output_type": "stream",
          "text": [
            "Collecting highway-env\n",
            "\u001b[?25l  Downloading https://files.pythonhosted.org/packages/12/1b/c09a10bc65889e333eb07f481060846b61075ae2716a2ee4f57d2cac1c49/highway_env-1.1-py3-none-any.whl (91kB)\n",
            "\u001b[K     |████████████████████████████████| 92kB 3.5MB/s \n",
            "\u001b[?25hCollecting pygame\n",
            "\u001b[?25l  Downloading https://files.pythonhosted.org/packages/4b/9e/c400554dd1d0e562bd4379f35ad5023c68fc120003a58991405850f56f95/pygame-2.0.1-cp37-cp37m-manylinux1_x86_64.whl (11.8MB)\n",
            "\u001b[K     |████████████████████████████████| 11.8MB 260kB/s \n",
            "\u001b[?25hRequirement already satisfied: pandas in /usr/local/lib/python3.7/dist-packages (from highway-env) (1.1.5)\n",
            "Requirement already satisfied: numpy in /usr/local/lib/python3.7/dist-packages (from highway-env) (1.19.5)\n",
            "Requirement already satisfied: matplotlib in /usr/local/lib/python3.7/dist-packages (from highway-env) (3.2.2)\n",
            "Requirement already satisfied: gym in /usr/local/lib/python3.7/dist-packages (from highway-env) (0.17.3)\n",
            "Requirement already satisfied: python-dateutil>=2.7.3 in /usr/local/lib/python3.7/dist-packages (from pandas->highway-env) (2.8.1)\n",
            "Requirement already satisfied: pytz>=2017.2 in /usr/local/lib/python3.7/dist-packages (from pandas->highway-env) (2018.9)\n",
            "Requirement already satisfied: pyparsing!=2.0.4,!=2.1.2,!=2.1.6,>=2.0.1 in /usr/local/lib/python3.7/dist-packages (from matplotlib->highway-env) (2.4.7)\n",
            "Requirement already satisfied: cycler>=0.10 in /usr/local/lib/python3.7/dist-packages (from matplotlib->highway-env) (0.10.0)\n",
            "Requirement already satisfied: kiwisolver>=1.0.1 in /usr/local/lib/python3.7/dist-packages (from matplotlib->highway-env) (1.3.1)\n",
            "Requirement already satisfied: pyglet<=1.5.0,>=1.4.0 in /usr/local/lib/python3.7/dist-packages (from gym->highway-env) (1.5.0)\n",
            "Requirement already satisfied: scipy in /usr/local/lib/python3.7/dist-packages (from gym->highway-env) (1.4.1)\n",
            "Requirement already satisfied: cloudpickle<1.7.0,>=1.2.0 in /usr/local/lib/python3.7/dist-packages (from gym->highway-env) (1.3.0)\n",
            "Requirement already satisfied: six>=1.5 in /usr/local/lib/python3.7/dist-packages (from python-dateutil>=2.7.3->pandas->highway-env) (1.15.0)\n",
            "Requirement already satisfied: future in /usr/local/lib/python3.7/dist-packages (from pyglet<=1.5.0,>=1.4.0->gym->highway-env) (0.16.0)\n",
            "Installing collected packages: pygame, highway-env\n",
            "Successfully installed highway-env-1.1 pygame-2.0.1\n",
            "Get:1 https://cloud.r-project.org/bin/linux/ubuntu bionic-cran40/ InRelease [3,626 B]\n",
            "Ign:2 https://developer.download.nvidia.com/compute/cuda/repos/ubuntu1804/x86_64  InRelease\n",
            "Get:3 http://security.ubuntu.com/ubuntu bionic-security InRelease [88.7 kB]\n",
            "Ign:4 https://developer.download.nvidia.com/compute/machine-learning/repos/ubuntu1804/x86_64  InRelease\n",
            "Get:5 https://developer.download.nvidia.com/compute/cuda/repos/ubuntu1804/x86_64  Release [697 B]\n",
            "Hit:6 https://developer.download.nvidia.com/compute/machine-learning/repos/ubuntu1804/x86_64  Release\n",
            "Get:7 http://ppa.launchpad.net/c2d4u.team/c2d4u4.0+/ubuntu bionic InRelease [15.9 kB]\n",
            "Get:8 https://developer.download.nvidia.com/compute/cuda/repos/ubuntu1804/x86_64  Release.gpg [836 B]\n",
            "Hit:10 http://archive.ubuntu.com/ubuntu bionic InRelease\n",
            "Get:11 http://archive.ubuntu.com/ubuntu bionic-updates InRelease [88.7 kB]\n",
            "Ign:12 https://developer.download.nvidia.com/compute/cuda/repos/ubuntu1804/x86_64  Packages\n",
            "Get:12 https://developer.download.nvidia.com/compute/cuda/repos/ubuntu1804/x86_64  Packages [741 kB]\n",
            "Hit:13 http://ppa.launchpad.net/cran/libgit2/ubuntu bionic InRelease\n",
            "Hit:14 http://ppa.launchpad.net/deadsnakes/ppa/ubuntu bionic InRelease\n",
            "Get:15 http://security.ubuntu.com/ubuntu bionic-security/multiverse amd64 Packages [24.7 kB]\n",
            "Get:16 http://archive.ubuntu.com/ubuntu bionic-backports InRelease [74.6 kB]\n",
            "Get:17 http://security.ubuntu.com/ubuntu bionic-security/restricted amd64 Packages [396 kB]\n",
            "Hit:18 http://ppa.launchpad.net/graphics-drivers/ppa/ubuntu bionic InRelease\n",
            "Get:19 http://archive.ubuntu.com/ubuntu bionic-updates/universe amd64 Packages [2,181 kB]\n",
            "Get:20 http://security.ubuntu.com/ubuntu bionic-security/main amd64 Packages [2,116 kB]\n",
            "Get:21 http://ppa.launchpad.net/c2d4u.team/c2d4u4.0+/ubuntu bionic/main Sources [1,756 kB]\n",
            "Get:22 http://archive.ubuntu.com/ubuntu bionic-updates/restricted amd64 Packages [426 kB]\n",
            "Get:23 http://archive.ubuntu.com/ubuntu bionic-updates/main amd64 Packages [2,546 kB]\n",
            "Get:24 http://archive.ubuntu.com/ubuntu bionic-updates/multiverse amd64 Packages [31.6 kB]\n",
            "Get:25 http://ppa.launchpad.net/c2d4u.team/c2d4u4.0+/ubuntu bionic/main amd64 Packages [899 kB]\n",
            "Fetched 11.4 MB in 6s (1,881 kB/s)\n",
            "Reading package lists... Done\n",
            "Reading package lists... Done\n",
            "Building dependency tree       \n",
            "Reading state information... Done\n",
            "The following package was automatically installed and is no longer required:\n",
            "  libnvidia-common-460\n",
            "Use 'apt autoremove' to remove it.\n",
            "The following NEW packages will be installed:\n",
            "  xvfb\n",
            "0 upgraded, 1 newly installed, 0 to remove and 36 not upgraded.\n",
            "Need to get 784 kB of archives.\n",
            "After this operation, 2,270 kB of additional disk space will be used.\n",
            "Get:1 http://archive.ubuntu.com/ubuntu bionic-updates/universe amd64 xvfb amd64 2:1.19.6-1ubuntu4.9 [784 kB]\n",
            "Fetched 784 kB in 2s (415 kB/s)\n",
            "Selecting previously unselected package xvfb.\n",
            "(Reading database ... 160690 files and directories currently installed.)\n",
            "Preparing to unpack .../xvfb_2%3a1.19.6-1ubuntu4.9_amd64.deb ...\n",
            "Unpacking xvfb (2:1.19.6-1ubuntu4.9) ...\n",
            "Setting up xvfb (2:1.19.6-1ubuntu4.9) ...\n",
            "Processing triggers for man-db (2.8.3-2ubuntu0.1) ...\n",
            "Reading package lists... Done\n",
            "Building dependency tree       \n",
            "Reading state information... Done\n",
            "The following package was automatically installed and is no longer required:\n",
            "  libnvidia-common-460\n",
            "Use 'apt autoremove' to remove it.\n",
            "The following additional packages will be installed:\n",
            "  libxxf86dga1\n",
            "Suggested packages:\n",
            "  mesa-utils\n",
            "The following NEW packages will be installed:\n",
            "  libxxf86dga1 x11-utils\n",
            "0 upgraded, 2 newly installed, 0 to remove and 36 not upgraded.\n",
            "Need to get 209 kB of archives.\n",
            "After this operation, 711 kB of additional disk space will be used.\n",
            "Get:1 http://archive.ubuntu.com/ubuntu bionic/main amd64 libxxf86dga1 amd64 2:1.1.4-1 [13.7 kB]\n",
            "Get:2 http://archive.ubuntu.com/ubuntu bionic/main amd64 x11-utils amd64 7.7+3build1 [196 kB]\n",
            "Fetched 209 kB in 2s (119 kB/s)\n",
            "Selecting previously unselected package libxxf86dga1:amd64.\n",
            "(Reading database ... 160697 files and directories currently installed.)\n",
            "Preparing to unpack .../libxxf86dga1_2%3a1.1.4-1_amd64.deb ...\n",
            "Unpacking libxxf86dga1:amd64 (2:1.1.4-1) ...\n",
            "Selecting previously unselected package x11-utils.\n",
            "Preparing to unpack .../x11-utils_7.7+3build1_amd64.deb ...\n",
            "Unpacking x11-utils (7.7+3build1) ...\n",
            "Setting up libxxf86dga1:amd64 (2:1.1.4-1) ...\n",
            "Setting up x11-utils (7.7+3build1) ...\n",
            "Processing triggers for man-db (2.8.3-2ubuntu0.1) ...\n",
            "Processing triggers for libc-bin (2.27-3ubuntu1.2) ...\n",
            "/sbin/ldconfig.real: /usr/local/lib/python3.7/dist-packages/ideep4py/lib/libmkldnn.so.0 is not a symbolic link\n",
            "\n",
            "Reading package lists... Done\n",
            "Building dependency tree       \n",
            "Reading state information... Done\n",
            "ffmpeg is already the newest version (7:3.4.8-0ubuntu0.2).\n",
            "The following package was automatically installed and is no longer required:\n",
            "  libnvidia-common-460\n",
            "Use 'apt autoremove' to remove it.\n",
            "0 upgraded, 0 newly installed, 0 to remove and 36 not upgraded.\n",
            "Reading package lists... Done\n",
            "Building dependency tree       \n",
            "Reading state information... Done\n",
            "The following package was automatically installed and is no longer required:\n",
            "  libnvidia-common-460\n",
            "Use 'apt autoremove' to remove it.\n",
            "Suggested packages:\n",
            "  libgle3\n",
            "The following NEW packages will be installed:\n",
            "  python-opengl\n",
            "0 upgraded, 1 newly installed, 0 to remove and 36 not upgraded.\n",
            "Need to get 496 kB of archives.\n",
            "After this operation, 5,416 kB of additional disk space will be used.\n",
            "Get:1 http://archive.ubuntu.com/ubuntu bionic/universe amd64 python-opengl all 3.1.0+dfsg-1 [496 kB]\n",
            "Fetched 496 kB in 2s (298 kB/s)\n",
            "Selecting previously unselected package python-opengl.\n",
            "(Reading database ... 160751 files and directories currently installed.)\n",
            "Preparing to unpack .../python-opengl_3.1.0+dfsg-1_all.deb ...\n",
            "Unpacking python-opengl (3.1.0+dfsg-1) ...\n",
            "Setting up python-opengl (3.1.0+dfsg-1) ...\n"
          ],
          "name": "stdout"
        }
      ]
    },
    {
      "cell_type": "markdown",
      "metadata": {
        "id": "LQkRXTtMOWGQ"
      },
      "source": [
        "### Some useful functions"
      ]
    },
    {
      "cell_type": "code",
      "metadata": {
        "id": "FUXID4BB2pfd"
      },
      "source": [
        "\n",
        "#Let's define a simple helper function for visualization of episodes\n",
        "def show_video(path):\n",
        "    html = []\n",
        "    for mp4 in Path(path).glob(\"*.mp4\"):\n",
        "        video_b64 = base64.b64encode(mp4.read_bytes())\n",
        "        html.append('''<video alt=\"{}\" autoplay \n",
        "                      controls style=\"height: 400px;\">\n",
        "                      <source src=\"data:video/mp4;base64,{}\" type=\"video/mp4\" />\n",
        "                 </video>'''.format(mp4, video_b64.decode('ascii')))\n",
        "    ipythondisplay.display(ipythondisplay.HTML(data=\"<br>\".join(html)))"
      ],
      "execution_count": 2,
      "outputs": []
    },
    {
      "cell_type": "code",
      "metadata": {
        "id": "Psgi51cDOele"
      },
      "source": [
        "from google.colab import drive\n",
        "from google.colab import files\n",
        "\n",
        "def save_checkpoint(model, filename, mode=0):\n",
        "    \"\"\"\n",
        "    Save a model to a file in your colab space \n",
        "        \n",
        "    Parameters\n",
        "    ----------\n",
        "    model: your policy network\n",
        "    filename: the name of the checkpoint file\n",
        "    mode (int): determines where to store the file\n",
        "                --> 0: collab space 1: Google Drive\n",
        "    \"\"\"\n",
        "    if mode == 1: \n",
        "      drive.mount('/content/gdrive')\n",
        "      path = F\"/content/gdrive/My Drive/{filename}\" \n",
        "      torch.save(model.state_dict(), path)\n",
        "    else:\n",
        "      torch.save(model.state_dict(), filename)\n",
        "\n",
        "def export_to_local_drive(filename):\n",
        "    \"\"\"\n",
        "    Download a file to your local machine \n",
        "        \n",
        "    Parameters\n",
        "    ----------\n",
        "    filename: the name of the file\n",
        "    \"\"\"\n",
        "    files.download(filename)\n",
        "\n",
        "  "
      ],
      "execution_count": 3,
      "outputs": []
    },
    {
      "cell_type": "markdown",
      "metadata": {
        "id": "bGoyAuuu527H"
      },
      "source": [
        "# Q1. CEM\n",
        "\n",
        "Implement below the cross-entropy method to solve the reacher-v0 environment and enable the agent to learn to navigate to a fixed goal position on a static highway map. Please, refer to the project descriprtion and lecture 13 for more details. "
      ]
    },
    {
      "cell_type": "markdown",
      "metadata": {
        "id": "vq_nQvWR3DVR"
      },
      "source": [
        "Let's first test things out!"
      ]
    },
    {
      "cell_type": "markdown",
      "metadata": {
        "id": "6GJUvUra6Lzs"
      },
      "source": [
        "# Q2. ES\n",
        "\n",
        "Implement below the non-distributed version of the evolution strategies method from  [[Salimans et al., 2017]](https://arxiv.org/pdf/1703.03864.pdf) to solve the LunarLanderContinuous-v2 environment and enable the agent to navigate to its landing pad. Please, refer to the project descriprtion and lecture 13 for more details. \n"
      ]
    },
    {
      "cell_type": "markdown",
      "metadata": {
        "id": "CNQgF9TmNARu"
      },
      "source": [
        "First, let's test the new environment out!"
      ]
    },
    {
      "cell_type": "code",
      "metadata": {
        "id": "-a3ZUhfMNQFL",
        "colab": {
          "base_uri": "https://localhost:8080/",
          "height": 649
        },
        "outputId": "29a4db34-10c7-4788-b1f0-f200e6ba2108"
      },
      "source": [
        "display = Display(visible=0, size=(900, 400))\n",
        "display.start()\n",
        "\n",
        "env = gym.make(\"intersection-v0\")\n",
        "env = Monitor(env, './video', force=True, video_callable=lambda episode: True)\n",
        "env.reset()\n",
        "done = False\n",
        "i = 0\n",
        "while not done:\n",
        "    action = env.action_space.sample()\n",
        "    print(i)\n",
        "    obs, reward, done, info = env.step(action)\n",
        "    i+=1\n",
        "env.close()\n",
        "show_video('./video')"
      ],
      "execution_count": 4,
      "outputs": [
        {
          "output_type": "stream",
          "text": [
            "0\n",
            "1\n",
            "2\n",
            "3\n",
            "4\n",
            "5\n",
            "6\n",
            "7\n",
            "8\n",
            "9\n",
            "10\n",
            "11\n",
            "12\n"
          ],
          "name": "stdout"
        },
        {
          "output_type": "display_data",
          "data": {
            "text/html": [
              "<video alt=\"video/openaigym.video.0.60.video000000.mp4\" autoplay \n",
              "                      controls style=\"height: 400px;\">\n",
              "                      <source src=\"data:video/mp4;base64,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\" type=\"video/mp4\" />\n",
              "                 </video>"
            ],
            "text/plain": [
              "<IPython.core.display.HTML object>"
            ]
          },
          "metadata": {
            "tags": []
          }
        }
      ]
    },
    {
      "cell_type": "markdown",
      "metadata": {
        "id": "AOFIXnZoNW9d"
      },
      "source": [
        "The observation that the agent receives is its position, velocity, angular speed, and two 2 Boolean flags indicating whether the left and right leg of the agent, respectively, is in contact with the ground.\n",
        "\n",
        "Two continuous actions are used to control the agent. The first one controls the main engine and the second one controls the left and right engines. *The expected range of each of the two actions is [-1, 1]. Please make sure that your policy network outputs values in that range*"
      ]
    },
    {
      "cell_type": "code",
      "metadata": {
        "id": "YqwSp74uNo2i",
        "colab": {
          "base_uri": "https://localhost:8080/"
        },
        "outputId": "2d6932ed-27fc-4dc8-dad8-d54872b9f669"
      },
      "source": [
        "print('observation space:', env.observation_space.shape[0])\n",
        "print('action space:', env.action_space.n)\n",
        "print('solved_score', env.spec.reward_threshold)\n"
      ],
      "execution_count": null,
      "outputs": [
        {
          "output_type": "stream",
          "text": [
            "observation space: 15\n",
            "action space: 3\n",
            "solved_score None\n"
          ],
          "name": "stdout"
        }
      ]
    },
    {
      "cell_type": "markdown",
      "metadata": {
        "id": "Lw7K8QYOaKyM"
      },
      "source": [
        "## Implement a policy network that the agent can use to select actions. \n",
        "Instead of training the parameters of the network, you will directly set them based on your ES optimization. "
      ]
    },
    {
      "cell_type": "code",
      "metadata": {
        "id": "WB_rAJeCaL0Y"
      },
      "source": [
        "device = torch.device(\"cuda:0\" if torch.cuda.is_available() else \"cpu\")\n",
        "\n",
        "######################## Your code ####################################\n",
        "class ESAgent(nn.Module): \n",
        "    def __init__(self, env, h_size=512):\n",
        "        super(ESAgent, self).__init__()\n",
        "        self.env = env\n",
        "        # state, hidden layer, action sizes\n",
        "        self.s_size = env.observation_space.shape[0] * env.observation_space.shape[1]\n",
        "        self.h_size = h_size\n",
        "        self.a_size = env.action_space.n\n",
        "        # define layers\n",
        "        self.fc1 = nn.Linear(self.s_size, self.h_size)\n",
        "        self.fc2 = nn.Linear(self.h_size, self.a_size)\n",
        "\n",
        "    def forward(self, x):\n",
        "        \"\"\"\n",
        "        Perform forward pass \n",
        "        \"\"\"\n",
        "        x = F.relu(self.fc1(x))\n",
        "        x = self.fc2(x)\n",
        "        return x.cpu().data\n",
        "    \n",
        "    def get_weights_dim(self):\n",
        "        \"\"\"\n",
        "        Returns the number of the NN parameters (weights, biases)\n",
        "        \"\"\"\n",
        "        return sum(p.numel() for p in self.parameters())\n",
        "    \n",
        "    def set_weights(self, weights):\n",
        "        '''\n",
        "        Function to copy a weight vector to the parameters (weights, biases) of the NN. \n",
        "        You can also set the weights outside of the class, e.g. using state_dict()\n",
        "\n",
        "        Params\n",
        "        ======\n",
        "            weights (float): a flatten numpy array that contains the weight vector obtained through CEM\n",
        "        '''\n",
        "        s_size = self.s_size\n",
        "        h_size = self.h_size\n",
        "        a_size = self.a_size\n",
        "        # separate the weights for each layer\n",
        "        fc1_end = (s_size*h_size)+h_size\n",
        "        fc1_W = torch.from_numpy(weights[:s_size*h_size].reshape(s_size, h_size))\n",
        "        fc1_b = torch.from_numpy(weights[s_size*h_size:fc1_end])\n",
        "        fc2_W = torch.from_numpy(weights[fc1_end:fc1_end+(h_size*a_size)].reshape(h_size, a_size))\n",
        "        fc2_b = torch.from_numpy(weights[fc1_end+(h_size*a_size):])\n",
        "        # set the weights for each layer\n",
        "        self.fc1.weight.data.copy_(fc1_W.view_as(self.fc1.weight.data))\n",
        "        self.fc1.bias.data.copy_(fc1_b.view_as(self.fc1.bias.data))\n",
        "        self.fc2.weight.data.copy_(fc2_W.view_as(self.fc2.weight.data))\n",
        "        self.fc2.bias.data.copy_(fc2_b.view_as(self.fc2.bias.data))\n",
        "\n",
        "    def get_weights_dim(self):\n",
        "        \"\"\"\n",
        "        Returns the number of the NN parameters (weights, biases)\n",
        "        \"\"\"\n",
        "        # print(self.s_size, self.fc1_units, self.fc2_units, self.a_size)\n",
        "        return (self.s_size+1)*self.h_size + (self.h_size+1)*self.a_size\n",
        "\n",
        "    def greedy_action(self, state):\n",
        "        \n",
        "        with torch.no_grad():\n",
        "            q_values = self.forward(state).detach().numpy().squeeze()\n",
        "        return np.argmax(q_values)\n",
        "\n",
        "    def evaluate(self, weights, gamma=1.0, max_t=5000):\n",
        "        self.set_weights(weights)\n",
        "        episode_return = 0.0\n",
        "        state = self.env.reset()\n",
        "        done = False\n",
        "        episode_step = 0\n",
        "        for t in range(max_t):\n",
        "            state = np.asarray(state).flatten()\n",
        "            state = torch.from_numpy(state).float().to(device)\n",
        "            # print(state.shape)\n",
        "            action = self.greedy_action(state)\n",
        "            # print(action)\n",
        "            state, reward, done, _ = self.env.step(action)\n",
        "            \n",
        "            episode_return += reward * math.pow(gamma, t)\n",
        "            # if reward == 1:\n",
        "            #     print('Reached in this episode')\n",
        "                \n",
        "            if done:\n",
        "                break\n",
        "            episode_step += 1\n",
        "        return episode_return, episode_step\n",
        "\n",
        "env = gym.make(\"intersection-v0\")\n",
        "es_agent = ESAgent(env).to(device)"
      ],
      "execution_count": 5,
      "outputs": []
    },
    {
      "cell_type": "markdown",
      "metadata": {
        "id": "ZQTAGHo_aV3F"
      },
      "source": [
        "## Train an ES agent\n"
      ]
    },
    {
      "cell_type": "code",
      "metadata": {
        "id": "jFYSDKjuaVO_",
        "colab": {
          "base_uri": "https://localhost:8080/"
        },
        "outputId": "68f35781-ad4c-4404-b548-5a202c6a2ecf"
      },
      "source": [
        "import math\n",
        "def es_train(n_iterations=50, max_t = 1000, gamma=0.9, print_every=1, pop_size=70, sigma=0.7, seed=2, alpha = 1):\n",
        "    torch.manual_seed(seed)\n",
        "    np.random.seed(seed)\n",
        "    best_weight = sigma*np.random.randn(es_agent.get_weights_dim())\n",
        "    scores_deque = deque(maxlen=100)\n",
        "    scores = []\n",
        "    i_iteration = 0\n",
        "    total_steps = 0\n",
        "    result = np.empty((n_iterations, 3))\n",
        "    result[:] = np.nan \n",
        "    for i_iteration in range(n_iterations):\n",
        "        epsilon = [np.random.randn(es_agent.get_weights_dim()) for i in range(pop_size)]\n",
        "        weights_pop = [best_weight + (sigma*epsilon[i]) for i in range(pop_size)]\n",
        "        rewards = np.array([es_agent.evaluate(weights, gamma, max_t)[0] for weights in weights_pop])\n",
        "        total_reward_epsilon = np.zeros(es_agent.get_weights_dim())\n",
        "\n",
        "        for i in range(pop_size):\n",
        "            total_reward_epsilon += rewards[i]*epsilon[i]\n",
        "\n",
        "        best_weight = best_weight + (alpha/(pop_size*sigma) * total_reward_epsilon)\n",
        "        reward, episode_steps = es_agent.evaluate(best_weight, gamma=1.0)\n",
        "\n",
        "\n",
        "        scores_deque.append(reward)\n",
        "        scores.append(reward)\n",
        "        i_iteration += 1\n",
        "        total_steps += episode_steps\n",
        "        result[i_iteration-1] = reward, total_steps, episode_steps\n",
        "        print('Episode {}\\tAverage Score: {:.2f}'.format(i_iteration, np.mean(scores_deque)))\n",
        "\n",
        "        if np.mean(scores_deque) >= 9.0:\n",
        "            print('\\nEnvironment solved in {:d} iterations!\\tAverage Score: {:.2f}'.format(i_iteration, np.mean(scores_deque)))\n",
        "            break\n",
        "        \n",
        "\n",
        "        \n",
        "    torch.save(es_agent.state_dict(), 'checkpoint_es.pth')\n",
        "    return result \n",
        "\n",
        "result = es_train()"
      ],
      "execution_count": 17,
      "outputs": [
        {
          "output_type": "stream",
          "text": [
            "Episode 1\tAverage Score: 1.00\n",
            "Episode 2\tAverage Score: 1.00\n",
            "Episode 3\tAverage Score: 4.00\n",
            "Episode 4\tAverage Score: 3.25\n",
            "Episode 6\tAverage Score: 2.17\n",
            "Episode 7\tAverage Score: 3.29\n",
            "Episode 8\tAverage Score: 3.00\n",
            "Episode 9\tAverage Score: 2.56\n",
            "Episode 10\tAverage Score: 3.10\n",
            "Episode 11\tAverage Score: 3.73\n",
            "Episode 12\tAverage Score: 3.50\n",
            "Episode 13\tAverage Score: 4.08\n",
            "Episode 14\tAverage Score: 4.50\n",
            "Episode 15\tAverage Score: 4.27\n",
            "Episode 16\tAverage Score: 4.62\n",
            "Episode 17\tAverage Score: 5.00\n",
            "Episode 18\tAverage Score: 4.78\n",
            "Episode 19\tAverage Score: 4.58\n",
            "Episode 20\tAverage Score: 4.35\n",
            "Episode 21\tAverage Score: 4.19\n",
            "Episode 22\tAverage Score: 4.05\n",
            "Episode 23\tAverage Score: 4.26\n",
            "Episode 24\tAverage Score: 4.12\n",
            "Episode 25\tAverage Score: 4.00\n",
            "Episode 26\tAverage Score: 4.23\n",
            "Episode 27\tAverage Score: 4.44\n",
            "Episode 28\tAverage Score: 4.29\n"
          ],
          "name": "stdout"
        },
        {
          "output_type": "stream",
          "text": [
            "/usr/local/lib/python3.7/dist-packages/highway_env/envs/common/observation.py:182: SettingWithCopyWarning: \n",
            "A value is trying to be set on a copy of a slice from a DataFrame.\n",
            "Try using .loc[row_indexer,col_indexer] = value instead\n",
            "\n",
            "See the caveats in the documentation: https://pandas.pydata.org/pandas-docs/stable/user_guide/indexing.html#returning-a-view-versus-a-copy\n",
            "  df[feature] = utils.lmap(df[feature], [f_range[0], f_range[1]], [-1, 1])\n",
            "/usr/local/lib/python3.7/dist-packages/highway_env/envs/common/observation.py:184: SettingWithCopyWarning: \n",
            "A value is trying to be set on a copy of a slice from a DataFrame.\n",
            "Try using .loc[row_indexer,col_indexer] = value instead\n",
            "\n",
            "See the caveats in the documentation: https://pandas.pydata.org/pandas-docs/stable/user_guide/indexing.html#returning-a-view-versus-a-copy\n",
            "  df[feature] = np.clip(df[feature], -1, 1)\n"
          ],
          "name": "stderr"
        },
        {
          "output_type": "stream",
          "text": [
            "Episode 29\tAverage Score: 4.17\n",
            "Episode 30\tAverage Score: 4.37\n",
            "Episode 31\tAverage Score: 4.35\n",
            "Episode 32\tAverage Score: 4.50\n",
            "Episode 33\tAverage Score: 4.21\n",
            "Episode 34\tAverage Score: 4.38\n",
            "Episode 35\tAverage Score: 4.51\n",
            "Episode 36\tAverage Score: 4.42\n",
            "Episode 37\tAverage Score: 4.54\n",
            "Episode 38\tAverage Score: 4.66\n",
            "Episode 39\tAverage Score: 4.77\n",
            "Episode 40\tAverage Score: 4.62\n",
            "Episode 41\tAverage Score: 4.54\n",
            "Episode 42\tAverage Score: 4.45\n",
            "Episode 43\tAverage Score: 4.40\n",
            "Episode 44\tAverage Score: 4.30\n",
            "Episode 45\tAverage Score: 4.16\n",
            "Episode 46\tAverage Score: 4.15\n",
            "Episode 47\tAverage Score: 4.06\n",
            "Episode 48\tAverage Score: 4.19\n",
            "Episode 49\tAverage Score: 4.33\n",
            "Episode 50\tAverage Score: 4.46\n"
          ],
          "name": "stdout"
        }
      ]
    },
    {
      "cell_type": "code",
      "metadata": {
        "colab": {
          "base_uri": "https://localhost:8080/",
          "height": 869
        },
        "id": "agaJ1L8aJBey",
        "outputId": "7d9c7a72-a65e-4353-b6e8-99e38f968394"
      },
      "source": [
        "\n",
        "es_score, es_total_steps, es_episode_steps = result.T\n",
        "\n",
        "fig1 = plt.figure()\n",
        "ax1 = fig1.add_subplot(111)\n",
        "plt.plot(es_score)\n",
        "plt.ylabel('Reward')\n",
        "plt.xlabel('Episode #')\n",
        "ax1.set_title('Avg Reward')\n",
        "\n",
        "fig2 = plt.figure()\n",
        "ax2 = fig2.add_subplot(111)\n",
        "plt.plot(es_total_steps)\n",
        "plt.ylabel('Total Steps')\n",
        "plt.xlabel('Episode #')\n",
        "ax2.set_title('Total Steps')\n",
        "\n",
        "fig3 = plt.figure()\n",
        "ax3 = fig3.add_subplot(111)\n",
        "plt.plot(es_episode_steps)\n",
        "plt.ylabel('CEM Steps')\n",
        "plt.xlabel('Episode #')\n",
        "ax3.set_title('CEM Steps')"
      ],
      "execution_count": 18,
      "outputs": [
        {
          "output_type": "execute_result",
          "data": {
            "text/plain": [
              "Text(0.5, 1.0, 'CEM Steps')"
            ]
          },
          "metadata": {
            "tags": []
          },
          "execution_count": 18
        },
        {
          "output_type": "display_data",
          "data": {
            "image/png": "[encoded data removed]",
            "text/plain": [
              "<Figure size 432x288 with 1 Axes>"
            ]
          },
          "metadata": {
            "tags": [],
            "needs_background": "light"
          }
        },
        {
          "output_type": "display_data",
          "data": {
            "image/png": "[encoded data removed]",
            "text/plain": [
              "<Figure size 432x288 with 1 Axes>"
            ]
          },
          "metadata": {
            "tags": [],
            "needs_background": "light"
          }
        },
        {
          "output_type": "display_data",
          "data": {
            "image/png": "[encoded data removed]",
            "text/plain": [
              "<Figure size 432x288 with 1 Axes>"
            ]
          },
          "metadata": {
            "tags": [],
            "needs_background": "light"
          }
        }
      ]
    },
    {
      "cell_type": "code",
      "metadata": {
        "id": "MpRguqTuiEpK",
        "colab": {
          "base_uri": "https://localhost:8080/",
          "height": 807
        },
        "outputId": "a2b818d2-87a1-474c-ed1e-8ddde4e1c8e1"
      },
      "source": [
        "display = Display(visible=0, size=(900, 400))\n",
        "display.start()\n",
        "\n",
        "env = gym.make(\"intersection-v0\")\n",
        "env = Monitor(env, './video', force=True, video_callable=lambda episode: True)\n",
        "\n",
        "done = False\n",
        "es_agent.load_state_dict(torch.load('checkpoint_es.pth'))\n",
        "state = env.reset()\n",
        "while True:\n",
        "    state = np.asarray(state).flatten()\n",
        "    state = torch.from_numpy(state).float().to(device)\n",
        "    \n",
        "    action = es_agent.greedy_action(state)\n",
        "    next_state, reward, done, _ = env.step(action)\n",
        "    print(reward)\n",
        "    print(action)\n",
        "    state = next_state\n",
        "    if done:\n",
        "        break\n",
        "env.close()\n",
        "show_video('./video')"
      ],
      "execution_count": 21,
      "outputs": [
        {
          "output_type": "stream",
          "text": [
            "1.0\n",
            "2\n",
            "1.0\n",
            "2\n",
            "1.0\n",
            "2\n",
            "1.0\n",
            "2\n",
            "1.0\n",
            "2\n",
            "1.0\n",
            "2\n",
            "1.0\n",
            "2\n",
            "1.0\n",
            "2\n",
            "1.0\n",
            "2\n",
            "1.0\n",
            "2\n",
            "1.0\n",
            "2\n"
          ],
          "name": "stdout"
        },
        {
          "output_type": "display_data",
          "data": {
            "text/html": [
              "<video alt=\"video/openaigym.video.10.60.video000000.mp4\" autoplay \n",
              "                      controls style=\"height: 400px;\">\n",
              "                      <source src=\"data:video/mp4;base64,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\" type=\"video/mp4\" />\n",
              "                 </video>"
            ],
            "text/plain": [
              "<IPython.core.display.HTML object>"
            ]
          },
          "metadata": {
            "tags": []
          }
        }
      ]
    },
    {
      "cell_type": "code",
      "metadata": {
        "colab": {
          "base_uri": "https://localhost:8080/"
        },
        "id": "AMxTpdrR_j0W",
        "outputId": "a3b2266f-61e5-4113-a7da-17f3e4d17bec"
      },
      "source": [
        "print(result)"
      ],
      "execution_count": 12,
      "outputs": [
        {
          "output_type": "stream",
          "text": [
            "[[  2.   6.   6.]\n",
            " [  1.  11.   5.]\n",
            " [  1.  16.   5.]\n",
            " [  2.  22.   6.]\n",
            " [  0.  26.   4.]\n",
            " [  0.  30.   4.]\n",
            " [  1.  35.   5.]\n",
            " [  6.  47.  12.]\n",
            " [  7.  59.  12.]\n",
            " [  1.  64.   5.]\n",
            " [  7.  76.  12.]\n",
            " [  8.  88.  12.]\n",
            " [  7. 100.  12.]\n",
            " [  6. 112.  12.]\n",
            " [  6. 124.  12.]\n",
            " [  7. 136.  12.]\n",
            " [  1. 141.   5.]\n",
            " [  8. 153.  12.]\n",
            " [  7. 165.  12.]\n",
            " [  1. 170.   5.]\n",
            " [  9. 179.   9.]\n",
            " [  1. 184.   5.]\n",
            " [  8. 194.  10.]\n",
            " [  1. 199.   5.]\n",
            " [  8. 209.  10.]\n",
            " [  1. 214.   5.]\n",
            " [  1. 219.   5.]\n",
            " [  0. 223.   4.]\n",
            " [  1. 228.   5.]\n",
            " [  0. 232.   4.]\n",
            " [  1. 237.   5.]\n",
            " [ 10. 246.   9.]\n",
            " [  1. 251.   5.]\n",
            " [ 10. 260.   9.]\n",
            " [  1. 265.   5.]\n",
            " [ 10. 274.   9.]\n",
            " [  8. 281.   7.]\n",
            " [ 10. 290.   9.]\n",
            " [  7. 302.  12.]\n",
            " [ -3. 303.   1.]\n",
            " [ 10. 312.   9.]\n",
            " [  1. 317.   5.]\n",
            " [  0. 321.   4.]\n",
            " [  0. 325.   4.]\n",
            " [  8. 334.   9.]\n",
            " [  0. 338.   4.]\n",
            " [  1. 343.   5.]\n",
            " [  0. 347.   4.]\n",
            " [ 10. 356.   9.]\n",
            " [  1. 361.   5.]]\n"
          ],
          "name": "stdout"
        }
      ]
    },
    {
      "cell_type": "code",
      "metadata": {
        "id": "TVV0ufju_mkl"
      },
      "source": [
        ""
      ],
      "execution_count": null,
      "outputs": []
    }
  ]
}