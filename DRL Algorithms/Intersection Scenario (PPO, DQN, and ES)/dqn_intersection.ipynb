{
  "nbformat": 4,
  "nbformat_minor": 0,
  "metadata": {
    "colab": {
      "name": "intersection_scenario.ipynb",
      "provenance": [],
      "collapsed_sections": []
    },
    "kernelspec": {
      "name": "python3",
      "language": "python",
      "display_name": "Python 3"
    },
    "accelerator": "GPU",
    "pycharm": {
      "stem_cell": {
        "cell_type": "raw",
        "source": [],
        "metadata": {
          "collapsed": false
        }
      }
    }
  },
  "cells": [
    {
      "cell_type": "markdown",
      "metadata": {
        "id": "sepDWoBqdRMK"
      },
      "source": [
        "# Training a DQN on `intersection-v0`\n",
        "## Import requirements"
      ]
    },
    {
      "cell_type": "code",
      "metadata": {
        "id": "XtwH2NAP-ugX"
      },
      "source": [
        ""
      ],
      "execution_count": null,
      "outputs": []
    },
    {
      "cell_type": "code",
      "metadata": {
        "id": "t6b34XHy3XqT",
        "colab": {
          "base_uri": "https://localhost:8080/"
        },
        "outputId": "c254bdc7-1708-4a13-a6b3-d09500c39cd9"
      },
      "source": [
        "from google.colab import drive\n",
        "drive.mount('/content/drive')"
      ],
      "execution_count": 3,
      "outputs": [
        {
          "output_type": "stream",
          "text": [
            "Mounted at /content/drive\n"
          ],
          "name": "stdout"
        }
      ]
    },
    {
      "cell_type": "code",
      "metadata": {
        "id": "Kx8X4s8krNWt",
        "colab": {
          "base_uri": "https://localhost:8080/"
        },
        "outputId": "e7fbdad5-f260-4f5c-e2da-85a1e55134c1"
      },
      "source": [
        "# Environment\n",
        "!pip install highway-env\n",
        "import gym\n",
        "import highway_env\n",
        "\n",
        "!apt-get update\n",
        "!apt-get install xvfb\n",
        "!apt-get install x11-utils\n",
        "!apt-get install ffmpeg\n",
        "!apt-get install python-opengl \n",
        "!pip -q install gym pyvirtualdisplay pygame\n",
        "\n",
        "\n",
        "\n",
        "#import pygame\n",
        "gym.logger.set_level(40) # suppress warnings on gym\n",
        "\n",
        "# Models and computation\n",
        "import torch # will use pyTorch to handle NN \n",
        "import torch.nn as nn\n",
        "import torch.nn.functional as F\n",
        "import torch.optim as optim\n",
        "import numpy as np\n",
        "from collections import deque\n",
        "import random\n",
        "from random import sample\n",
        "\n",
        "# Visualization\n",
        "import matplotlib\n",
        "import matplotlib.pyplot as plt\n",
        "%matplotlib inline\n",
        "from IPython import display as ipythondisplay\n",
        "from pyvirtualdisplay import Display\n",
        "from gym.wrappers import Monitor\n",
        "import base64\n",
        "\n",
        "# IO\n",
        "from pathlib import Path\n",
        "import os "
      ],
      "execution_count": 4,
      "outputs": [
        {
          "output_type": "stream",
          "text": [
            "Collecting highway-env\n",
            "\u001b[?25l  Downloading https://files.pythonhosted.org/packages/12/1b/c09a10bc65889e333eb07f481060846b61075ae2716a2ee4f57d2cac1c49/highway_env-1.1-py3-none-any.whl (91kB)\n",
            "\r\u001b[K     |███▋                            | 10kB 21.5MB/s eta 0:00:01\r\u001b[K     |███████▏                        | 20kB 29.3MB/s eta 0:00:01\r\u001b[K     |██████████▊                     | 30kB 26.2MB/s eta 0:00:01\r\u001b[K     |██████████████▎                 | 40kB 23.1MB/s eta 0:00:01\r\u001b[K     |█████████████████▉              | 51kB 23.7MB/s eta 0:00:01\r\u001b[K     |█████████████████████▍          | 61kB 16.8MB/s eta 0:00:01\r\u001b[K     |█████████████████████████       | 71kB 17.5MB/s eta 0:00:01\r\u001b[K     |████████████████████████████▌   | 81kB 16.7MB/s eta 0:00:01\r\u001b[K     |████████████████████████████████| 92kB 7.9MB/s \n",
            "\u001b[?25hRequirement already satisfied: numpy in /usr/local/lib/python3.7/dist-packages (from highway-env) (1.19.5)\n",
            "Requirement already satisfied: matplotlib in /usr/local/lib/python3.7/dist-packages (from highway-env) (3.2.2)\n",
            "Collecting pygame\n",
            "\u001b[?25l  Downloading https://files.pythonhosted.org/packages/4b/9e/c400554dd1d0e562bd4379f35ad5023c68fc120003a58991405850f56f95/pygame-2.0.1-cp37-cp37m-manylinux1_x86_64.whl (11.8MB)\n",
            "\u001b[K     |████████████████████████████████| 11.8MB 32.9MB/s \n",
            "\u001b[?25hRequirement already satisfied: gym in /usr/local/lib/python3.7/dist-packages (from highway-env) (0.17.3)\n",
            "Requirement already satisfied: pandas in /usr/local/lib/python3.7/dist-packages (from highway-env) (1.1.5)\n",
            "Requirement already satisfied: cycler>=0.10 in /usr/local/lib/python3.7/dist-packages (from matplotlib->highway-env) (0.10.0)\n",
            "Requirement already satisfied: kiwisolver>=1.0.1 in /usr/local/lib/python3.7/dist-packages (from matplotlib->highway-env) (1.3.1)\n",
            "Requirement already satisfied: pyparsing!=2.0.4,!=2.1.2,!=2.1.6,>=2.0.1 in /usr/local/lib/python3.7/dist-packages (from matplotlib->highway-env) (2.4.7)\n",
            "Requirement already satisfied: python-dateutil>=2.1 in /usr/local/lib/python3.7/dist-packages (from matplotlib->highway-env) (2.8.1)\n",
            "Requirement already satisfied: cloudpickle<1.7.0,>=1.2.0 in /usr/local/lib/python3.7/dist-packages (from gym->highway-env) (1.3.0)\n",
            "Requirement already satisfied: scipy in /usr/local/lib/python3.7/dist-packages (from gym->highway-env) (1.4.1)\n",
            "Requirement already satisfied: pyglet<=1.5.0,>=1.4.0 in /usr/local/lib/python3.7/dist-packages (from gym->highway-env) (1.5.0)\n",
            "Requirement already satisfied: pytz>=2017.2 in /usr/local/lib/python3.7/dist-packages (from pandas->highway-env) (2018.9)\n",
            "Requirement already satisfied: six in /usr/local/lib/python3.7/dist-packages (from cycler>=0.10->matplotlib->highway-env) (1.15.0)\n",
            "Requirement already satisfied: future in /usr/local/lib/python3.7/dist-packages (from pyglet<=1.5.0,>=1.4.0->gym->highway-env) (0.16.0)\n",
            "Installing collected packages: pygame, highway-env\n",
            "Successfully installed highway-env-1.1 pygame-2.0.1\n",
            "Get:1 https://cloud.r-project.org/bin/linux/ubuntu bionic-cran40/ InRelease [3,626 B]\n",
            "Ign:2 https://developer.download.nvidia.com/compute/cuda/repos/ubuntu1804/x86_64  InRelease\n",
            "Get:3 http://security.ubuntu.com/ubuntu bionic-security InRelease [88.7 kB]\n",
            "Get:4 http://ppa.launchpad.net/c2d4u.team/c2d4u4.0+/ubuntu bionic InRelease [15.9 kB]\n",
            "Hit:5 http://archive.ubuntu.com/ubuntu bionic InRelease\n",
            "Ign:6 https://developer.download.nvidia.com/compute/machine-learning/repos/ubuntu1804/x86_64  InRelease\n",
            "Get:7 https://developer.download.nvidia.com/compute/cuda/repos/ubuntu1804/x86_64  Release [697 B]\n",
            "Hit:8 https://developer.download.nvidia.com/compute/machine-learning/repos/ubuntu1804/x86_64  Release\n",
            "Get:9 https://developer.download.nvidia.com/compute/cuda/repos/ubuntu1804/x86_64  Release.gpg [836 B]\n",
            "Get:10 http://archive.ubuntu.com/ubuntu bionic-updates InRelease [88.7 kB]\n",
            "Hit:11 http://ppa.launchpad.net/cran/libgit2/ubuntu bionic InRelease\n",
            "Get:12 http://archive.ubuntu.com/ubuntu bionic-backports InRelease [74.6 kB]\n",
            "Hit:13 http://ppa.launchpad.net/deadsnakes/ppa/ubuntu bionic InRelease\n",
            "Hit:15 http://ppa.launchpad.net/graphics-drivers/ppa/ubuntu bionic InRelease\n",
            "Ign:16 https://developer.download.nvidia.com/compute/cuda/repos/ubuntu1804/x86_64  Packages\n",
            "Get:16 https://developer.download.nvidia.com/compute/cuda/repos/ubuntu1804/x86_64  Packages [741 kB]\n",
            "Get:17 http://ppa.launchpad.net/c2d4u.team/c2d4u4.0+/ubuntu bionic/main Sources [1,756 kB]\n",
            "Get:18 http://security.ubuntu.com/ubuntu bionic-security/restricted amd64 Packages [396 kB]\n",
            "Get:19 http://security.ubuntu.com/ubuntu bionic-security/multiverse amd64 Packages [24.7 kB]\n",
            "Get:20 http://security.ubuntu.com/ubuntu bionic-security/main amd64 Packages [2,116 kB]\n",
            "Get:21 http://archive.ubuntu.com/ubuntu bionic-updates/universe amd64 Packages [2,181 kB]\n",
            "Get:22 http://ppa.launchpad.net/c2d4u.team/c2d4u4.0+/ubuntu bionic/main amd64 Packages [899 kB]\n",
            "Get:23 http://archive.ubuntu.com/ubuntu bionic-updates/main amd64 Packages [2,546 kB]\n",
            "Get:24 http://archive.ubuntu.com/ubuntu bionic-updates/multiverse amd64 Packages [31.6 kB]\n",
            "Get:25 http://archive.ubuntu.com/ubuntu bionic-updates/restricted amd64 Packages [426 kB]\n",
            "Fetched 11.4 MB in 3s (4,470 kB/s)\n",
            "Reading package lists... Done\n",
            "Reading package lists... Done\n",
            "Building dependency tree       \n",
            "Reading state information... Done\n",
            "The following package was automatically installed and is no longer required:\n",
            "  libnvidia-common-460\n",
            "Use 'apt autoremove' to remove it.\n",
            "The following NEW packages will be installed:\n",
            "  xvfb\n",
            "0 upgraded, 1 newly installed, 0 to remove and 36 not upgraded.\n",
            "Need to get 784 kB of archives.\n",
            "After this operation, 2,270 kB of additional disk space will be used.\n",
            "Get:1 http://archive.ubuntu.com/ubuntu bionic-updates/universe amd64 xvfb amd64 2:1.19.6-1ubuntu4.9 [784 kB]\n",
            "Fetched 784 kB in 1s (1,247 kB/s)\n",
            "Selecting previously unselected package xvfb.\n",
            "(Reading database ... 160690 files and directories currently installed.)\n",
            "Preparing to unpack .../xvfb_2%3a1.19.6-1ubuntu4.9_amd64.deb ...\n",
            "Unpacking xvfb (2:1.19.6-1ubuntu4.9) ...\n",
            "Setting up xvfb (2:1.19.6-1ubuntu4.9) ...\n",
            "Processing triggers for man-db (2.8.3-2ubuntu0.1) ...\n",
            "Reading package lists... Done\n",
            "Building dependency tree       \n",
            "Reading state information... Done\n",
            "The following package was automatically installed and is no longer required:\n",
            "  libnvidia-common-460\n",
            "Use 'apt autoremove' to remove it.\n",
            "The following additional packages will be installed:\n",
            "  libxxf86dga1\n",
            "Suggested packages:\n",
            "  mesa-utils\n",
            "The following NEW packages will be installed:\n",
            "  libxxf86dga1 x11-utils\n",
            "0 upgraded, 2 newly installed, 0 to remove and 36 not upgraded.\n",
            "Need to get 209 kB of archives.\n",
            "After this operation, 711 kB of additional disk space will be used.\n",
            "Get:1 http://archive.ubuntu.com/ubuntu bionic/main amd64 libxxf86dga1 amd64 2:1.1.4-1 [13.7 kB]\n",
            "Get:2 http://archive.ubuntu.com/ubuntu bionic/main amd64 x11-utils amd64 7.7+3build1 [196 kB]\n",
            "Fetched 209 kB in 0s (457 kB/s)\n",
            "Selecting previously unselected package libxxf86dga1:amd64.\n",
            "(Reading database ... 160697 files and directories currently installed.)\n",
            "Preparing to unpack .../libxxf86dga1_2%3a1.1.4-1_amd64.deb ...\n",
            "Unpacking libxxf86dga1:amd64 (2:1.1.4-1) ...\n",
            "Selecting previously unselected package x11-utils.\n",
            "Preparing to unpack .../x11-utils_7.7+3build1_amd64.deb ...\n",
            "Unpacking x11-utils (7.7+3build1) ...\n",
            "Setting up libxxf86dga1:amd64 (2:1.1.4-1) ...\n",
            "Setting up x11-utils (7.7+3build1) ...\n",
            "Processing triggers for man-db (2.8.3-2ubuntu0.1) ...\n",
            "Processing triggers for libc-bin (2.27-3ubuntu1.2) ...\n",
            "/sbin/ldconfig.real: /usr/local/lib/python3.7/dist-packages/ideep4py/lib/libmkldnn.so.0 is not a symbolic link\n",
            "\n",
            "Reading package lists... Done\n",
            "Building dependency tree       \n",
            "Reading state information... Done\n",
            "ffmpeg is already the newest version (7:3.4.8-0ubuntu0.2).\n",
            "The following package was automatically installed and is no longer required:\n",
            "  libnvidia-common-460\n",
            "Use 'apt autoremove' to remove it.\n",
            "0 upgraded, 0 newly installed, 0 to remove and 36 not upgraded.\n",
            "Reading package lists... Done\n",
            "Building dependency tree       \n",
            "Reading state information... Done\n",
            "The following package was automatically installed and is no longer required:\n",
            "  libnvidia-common-460\n",
            "Use 'apt autoremove' to remove it.\n",
            "Suggested packages:\n",
            "  libgle3\n",
            "The following NEW packages will be installed:\n",
            "  python-opengl\n",
            "0 upgraded, 1 newly installed, 0 to remove and 36 not upgraded.\n",
            "Need to get 496 kB of archives.\n",
            "After this operation, 5,416 kB of additional disk space will be used.\n",
            "Get:1 http://archive.ubuntu.com/ubuntu bionic/universe amd64 python-opengl all 3.1.0+dfsg-1 [496 kB]\n",
            "Fetched 496 kB in 1s (876 kB/s)\n",
            "Selecting previously unselected package python-opengl.\n",
            "(Reading database ... 160751 files and directories currently installed.)\n",
            "Preparing to unpack .../python-opengl_3.1.0+dfsg-1_all.deb ...\n",
            "Unpacking python-opengl (3.1.0+dfsg-1) ...\n",
            "Setting up python-opengl (3.1.0+dfsg-1) ...\n"
          ],
          "name": "stdout"
        }
      ]
    },
    {
      "cell_type": "code",
      "metadata": {
        "id": "bRauWjbutJ2G"
      },
      "source": [
        "display = Display(visible=0, size=(600, 400))\n",
        "display.start()\n",
        "\n",
        "def show_video(path):\n",
        "    html = []\n",
        "    for mp4 in Path(path).glob(\"*.mp4\"):\n",
        "        video_b64 = base64.b64encode(mp4.read_bytes())\n",
        "        html.append('''<video alt=\"{}\" autoplay \n",
        "                      controls style=\"height: 400px;\">\n",
        "                      <source src=\"data:video/mp4;base64,{}\" type=\"video/mp4\" />\n",
        "                 </video>'''.format(mp4, video_b64.decode('ascii')))\n",
        "    ipythondisplay.display(ipythondisplay.HTML(data=\"<br>\".join(html)))"
      ],
      "execution_count": 5,
      "outputs": []
    },
    {
      "cell_type": "code",
      "metadata": {
        "colab": {
          "base_uri": "https://localhost:8080/",
          "height": 421
        },
        "id": "9mtuY_rFtXUz",
        "outputId": "0c6b2996-be76-4d9d-a694-8b77c026b514"
      },
      "source": [
        "env = gym.make(\"intersection-v0\")\n",
        "env = Monitor(env, './video', force=True, video_callable=lambda episode: True)\n",
        "env.reset()\n",
        "done = False\n",
        "while not done:\n",
        "    action = env.action_space.sample()#env.action_space.sample()\n",
        "    obs, reward, done, info = env.step(action)\n",
        "env.close()\n",
        "show_video('./video')"
      ],
      "execution_count": 6,
      "outputs": [
        {
          "output_type": "display_data",
          "data": {
            "text/html": [
              "<video alt=\"video/openaigym.video.0.58.video000000.mp4\" autoplay \n",
              "                      controls style=\"height: 400px;\">\n",
              "                      <source src=\"data:video/mp4;base64,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\" type=\"video/mp4\" />\n",
              "                 </video>"
            ],
            "text/plain": [
              "<IPython.core.display.HTML object>"
            ]
          },
          "metadata": {
            "tags": []
          }
        }
      ]
    },
    {
      "cell_type": "markdown",
      "metadata": {
        "id": "vvOEW00pdHrG"
      },
      "source": [
        "## Training\n",
        "\n",
        "Prepare environment, agent, and evaluation process.\n",
        "\n",
        "We use a policy architecture based on social attention, see [[Leurent and Mercat, 2019]](https://arxiv.org/abs/1911.12250).\n"
      ]
    },
    {
      "cell_type": "code",
      "metadata": {
        "colab": {
          "base_uri": "https://localhost:8080/"
        },
        "id": "lI16EoK8n4Ea",
        "outputId": "87f37e0f-4e6c-4591-920a-7d880af2fc26"
      },
      "source": [
        "print(env.action_space)\n",
        "print(env.observation_space)"
      ],
      "execution_count": 7,
      "outputs": [
        {
          "output_type": "stream",
          "text": [
            "Discrete(3)\n",
            "Box(-1.0, 1.0, (15, 7), float32)\n"
          ],
          "name": "stdout"
        }
      ]
    },
    {
      "cell_type": "code",
      "metadata": {
        "id": "wNHdZyR5VPvc"
      },
      "source": [
        "from google.colab import drive\n",
        "from google.colab import files\n",
        "\n",
        "def save_checkpoint(model, filename, mode=0):\n",
        "    \"\"\"\n",
        "    Save a model to a file in your colab space \n",
        "        \n",
        "    Parameters\n",
        "    ----------\n",
        "    model: your Q network\n",
        "    filename: the name of the checkpoint file\n",
        "    mode (int): determines where to store the file\n",
        "                --> 0: collab space 1: Google Drive\n",
        "    \"\"\"\n",
        "    if mode == 1: \n",
        "      drive.mount('/content/gdrive')\n",
        "      path = F\"/content/gdrive/My Drive/{filename}\" \n",
        "      torch.save(model.state_dict(), path)\n",
        "    else:\n",
        "      torch.save(model.state_dict(), filename)\n",
        "\n",
        "def export_to_local_drive(filename):\n",
        "    \"\"\"\n",
        "    Download a file to your local machine \n",
        "        \n",
        "    Parameters\n",
        "    ----------\n",
        "    filename: the name of the file\n",
        "    \"\"\"\n",
        "    files.download(filename)"
      ],
      "execution_count": 8,
      "outputs": []
    },
    {
      "cell_type": "markdown",
      "metadata": {
        "id": "ls8F42HjYZAz"
      },
      "source": [
        "# New Section"
      ]
    },
    {
      "cell_type": "markdown",
      "metadata": {
        "id": "VKfvu5uhzCIU"
      },
      "source": [
        "## Testing\n",
        "\n",
        "Run the learned policy for a few episodes."
      ]
    },
    {
      "cell_type": "code",
      "metadata": {
        "id": "gY0rpVYUtRpN"
      },
      "source": [
        "device = torch.device(\"cuda:0\" if torch.cuda.is_available() else \"cpu\")\n",
        "from collections import namedtuple\n",
        "\n",
        "######################## Your code ####################################\n",
        "# class for QNetwork\n",
        "class QNetwork(nn.Module): \n",
        "    def __init__(self, s_size,  a_size, fc1_units=32, fc2_units=32):\n",
        "        super(QNetwork, self).__init__()\n",
        "        self.fc1 = nn.Linear(s_size, fc1_units)\n",
        "        self.fc2 = nn.Linear(fc1_units, fc2_units)\n",
        "        self.fc3 = nn.Linear(fc2_units, a_size)\n",
        "\n",
        "    def forward(self, state):\n",
        "        \"\"\"Perform forward propagation.\"\"\"\n",
        "\n",
        "        x = state\n",
        "        # print('intial', x)\n",
        "        if not isinstance(x, torch.Tensor):\n",
        "            x = torch.tensor(x, \n",
        "                             device=device, \n",
        "                             dtype=torch.float32)\n",
        "            x = x.unsqueeze(0)\n",
        "        # print(x)\n",
        "        x = F.relu(self.fc1(x))\n",
        "        x = F.relu(self.fc2(x))\n",
        "        x = self.fc3(x)\n",
        "        \n",
        "        return x \n"
      ],
      "execution_count": 9,
      "outputs": []
    },
    {
      "cell_type": "code",
      "metadata": {
        "id": "QVs77JyUVg2C"
      },
      "source": [
        "class DQNAgent():\n",
        "    def __init__(self, state_size, action_size, batch_size, epochs, lr):\n",
        "        self.state_size = state_size\n",
        "        self.action_size = action_size\n",
        "        self.batch_size = batch_size\n",
        "        self.epochs = epochs\n",
        "        self.lr = lr\n",
        "        self.experiences_position = 0\n",
        "        # Q-Network (this could also be passed in the initialization)\n",
        "        self.qnetwork = QNetwork(state_size, action_size, 512, 128).to(device)\n",
        "        # Optimizer (this could also be passed in the initialization)\n",
        "        self.optimizer = optim.RMSprop(self.qnetwork.parameters(), lr=self.lr)\n",
        "\n",
        "    def epsilon_greedy_action(self, state, eps):\n",
        "        \"\"\"\n",
        "        Returns either a random action or the greedy action.\n",
        "        \"\"\"\n",
        "        with torch.no_grad():\n",
        "            q_values = self.qnetwork(state).cpu().detach().data.numpy().squeeze()\n",
        "\n",
        "        if np.random.rand() > eps:\n",
        "            action = np.argmax(q_values)\n",
        "        else: \n",
        "            action = np.random.randint(len(q_values))\n",
        "        return action\n",
        "\n",
        "    def greedy_action(self, state):\n",
        "        \"\"\"\n",
        "        Returns the greedy action\n",
        "        \"\"\"\n",
        "        with torch.no_grad():\n",
        "            q_values = self.qnetwork(state).cpu().detach().data.numpy().squeeze()\n",
        "        return np.argmax(q_values)\n",
        "\n",
        "    def load_checkpoint(self, model_name):\n",
        "        \"\"\"\n",
        "        Loads the model\n",
        "        \"\"\"\n",
        "        self.qnetwork.load_state_dict(torch.load(model_name))\n",
        "\n",
        "    def evaluate(self, env, n_rollouts=1):\n",
        "        \"\"\"\n",
        "        Evaluates for n_rollouts #\n",
        "        \"\"\"\n",
        "        rewards = []\n",
        "        for _ in range(n_rollouts):\n",
        "            state, done = env.reset(), False\n",
        "            rewards.append(0)\n",
        "            while not done:\n",
        "                state = np.asarray(state).flatten()\n",
        "                action = self.greedy_action(state)\n",
        "                state, reward, done, _ = env.step(action)\n",
        "                rewards[-1] += reward\n",
        "        return np.mean(rewards), np.std(rewards)\n",
        "\n",
        "    def collect_experience(self, env, state, eps):\n",
        "        \"\"\"\n",
        "        Collects the experience (state, action, reward, new_state and is_terminal)\n",
        "        \"\"\"\n",
        "        action = self.epsilon_greedy_action(state, eps)\n",
        "        new_state, reward, is_terminal, info = env.step(action)\n",
        "        # is_truncated = 'TimeLimit.truncated' in info\n",
        "        new_state = np.asarray(new_state).flatten()\n",
        "        experience = (state, action, reward, new_state, float(is_terminal)) \n",
        "\n",
        "        if len(self.experiences) < self.replay_capacity:\n",
        "            self.experiences.append(None)\n",
        "        self.experiences[self.experiences_position] = experience\n",
        "        self.experiences_position = (self.experiences_position + 1) % self.replay_capacity\n",
        "\n",
        "        self.episode_reward[-1] += reward\n",
        "        self.episode_timestep[-1] += 1\n",
        "        return new_state, is_terminal\n",
        "\n",
        "    def learn(self, experiences):\n",
        "        \"\"\"\n",
        "        Optimize the network parameters\n",
        "        \"\"\"\n",
        "        states, actions, rewards, next_states, dones = experiences\n",
        "        # print(states)\n",
        "        q_predicted = self.qnetwork(states).gather(1, actions)\n",
        "        # print(next_states.shape)\n",
        "        q_next_states = target_net.qnetwork(next_states).detach()\n",
        "        q_targets = q_next_states.max(1)[0].unsqueeze(1)\n",
        "        q_target = rewards + (self.gamma*q_targets*(1-dones))\n",
        "\n",
        "        loss = F.mse_loss(q_predicted, q_target)\n",
        "\n",
        "        # Minimize the loss\n",
        "        self.optimizer.zero_grad()\n",
        "        loss.backward()\n",
        "        self.optimizer.step()\n",
        "        \n",
        "    def train(self, env, seed, gamma, max_episodes, target_update, replay_capacity):\n",
        "        \n",
        "        self.seed = seed\n",
        "        self.gamma = gamma\n",
        "        self.replay_capacity = replay_capacity\n",
        "        torch.manual_seed =(self.seed)\n",
        "        np.random.seed(self.seed)\n",
        "\n",
        "        self.episode_reward = []\n",
        "        self.evaluation_scores = []\n",
        "        self.experiences = []\n",
        "        self.episode_timestep = []\n",
        "        total_steps = 0\n",
        "        result = np.empty((max_episodes, 3))\n",
        "        result[:] = np.nan\n",
        "        eps = 1\n",
        "        for episode in range(1, max_episodes+1):\n",
        "            state, is_terminal = env.reset(), False\n",
        "            self.episode_reward.append(0.0)\n",
        "            self.episode_timestep.append(0.0)\n",
        "            \n",
        "            for step in range(max_steps_per_episode):\n",
        "                state = np.asarray(state).flatten()\n",
        "                state, is_terminal = self.collect_experience(env, state, eps)\n",
        "                if len(self.experiences) >= self.batch_size:\n",
        "                    experiences = np.array(random.sample(self.experiences, self.batch_size), dtype=object)\n",
        "\n",
        "                    batches = [np.vstack(e) for e in experiences.T]\n",
        "                    states, actions, rewards, new_states, is_terminals = batches\n",
        "                    # print(states.shape, new_states.shape)\n",
        "                    # load the dataset to the device\n",
        "                    states = torch.from_numpy(states).float().to(device)\n",
        "                    actions = torch.from_numpy(actions).long().to(device)\n",
        "                    new_states = torch.from_numpy(new_states).float().to(device)\n",
        "                    rewards = torch.from_numpy(rewards).float().to(device)\n",
        "                    is_terminals = torch.from_numpy(is_terminals).float().to(device)\n",
        "                    experiences = (states, actions, rewards, new_states, is_terminals) \n",
        "                    # print(experiences.shape)\n",
        "                    self.learn(experiences)\n",
        "                \n",
        "                total_steps += 1\n",
        "                if total_steps % target_update == 0:    # Updating the target_net parameters\n",
        "                    target_net.qnetwork.load_state_dict(self.qnetwork.state_dict())\n",
        "\n",
        "                \n",
        "                if ((total_steps % 75) == 0) and (eps > 0.05):   # Epsilon decay by 0.005 every 75 steps, epsilon decays till 0.05\n",
        "                    eps -= 0.005\n",
        "\n",
        "                if is_terminal:\n",
        "                    break\n",
        "\n",
        "            # bookkeeping\n",
        "            evaluation_score, _ = self.evaluate(env)\n",
        "            self.evaluation_scores.append(evaluation_score)\n",
        "            mean_100_reward = np.mean(self.episode_reward[-100:])\n",
        "            std_100_reward = np.std(self.episode_reward[-100:])\n",
        "            mean_100_eval_score = np.mean(self.evaluation_scores[-100:])\n",
        "            std_100_eval_score = np.std(self.evaluation_scores[-100:])\n",
        "            result[episode-1] = total_steps, mean_100_reward, mean_100_eval_score\n",
        "            print('Episode: {:d}, Total Steps: {:d}, Train_reward: {:.2f}, Eval_reward: {:.2f}, Epsilon: {:.4f}'.format(episode-1,total_steps,\\\n",
        "            mean_100_reward, mean_100_eval_score, eps))\n",
        "\n",
        "            \n",
        "        print('*****************Training Complete************************')\n",
        "        save_checkpoint(policy_net.qnetwork, 'model_que1.pth')   # save the check point\n",
        "        print('********************Model Saved************************')\n",
        "        # export_to_local_drive('model_que1.pth')\n",
        "        env.close()\n",
        "        # show_video('./video')\n",
        "        return result\n"
      ],
      "execution_count": 10,
      "outputs": []
    },
    {
      "cell_type": "code",
      "metadata": {
        "id": "NkzzinMkWbji"
      },
      "source": [
        "env = gym.make(\"intersection-v0\")\n",
        "batch_size = 128\n",
        "epochs = 40\n",
        "lr = 5e-4\n",
        "gamma = 0.999\n",
        "seed = 5\n",
        "env.seed(seed)\n",
        "max_episodes = 1000\n",
        "max_steps_per_episode = 1000\n",
        "target_update = 500\n",
        "replay_capacity = 10000\n",
        "\n",
        "# Initialize the weights of policy network and target network\n",
        "# print(env.action_space.n)\n",
        "policy_net = DQNAgent(105, env.action_space.n, batch_size, epochs, lr)\n",
        "target_net = DQNAgent(105, env.action_space.n, batch_size, epochs, lr)\n",
        "target_net.qnetwork.load_state_dict(policy_net.qnetwork.state_dict())\n",
        "\n",
        "result = policy_net.train(env, seed, gamma, max_episodes, target_update, replay_capacity)\n",
        "env.close()\n",
        "\n",
        "del env"
      ],
      "execution_count": null,
      "outputs": []
    },
    {
      "cell_type": "code",
      "metadata": {
        "colab": {
          "base_uri": "https://localhost:8080/",
          "height": 421
        },
        "id": "uQvnpUI9TiRF",
        "outputId": "e065dca8-e412-4c70-8ac8-3bb73cc3101a"
      },
      "source": [
        "env = gym.make('intersection-v0')\n",
        "env = Monitor(env, './video', force=True, video_callable=lambda episode: True)\n",
        "batch_size = 128\n",
        "epochs = 40\n",
        "lr = 5e-4\n",
        "\n",
        "policy_net = DQNAgent(105, env.action_space.n, batch_size, epochs, lr)\n",
        "policy_net.load_checkpoint('model_que1.pth')\n",
        "state = env.reset()\n",
        "done = False\n",
        "while not done:\n",
        "    state = np.asarray(state).flatten()\n",
        "    action = policy_net.greedy_action(state)\n",
        "    state, reward, done, _ = env.step(action)\n",
        "    # print(action)\n",
        "    # print(\"***************\")\n",
        "    # print(reward)\n",
        "env.close()\n",
        "show_video('./video')"
      ],
      "execution_count": null,
      "outputs": [
        {
          "output_type": "display_data",
          "data": {
            "text/html": [
              "<video alt=\"video/openaigym.video.3.58.video000000.mp4\" autoplay \n",
              "                      controls style=\"height: 400px;\">\n",
              "                      <source src=\"data:video/mp4;base64,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\" type=\"video/mp4\" />\n",
              "                 </video>"
            ],
            "text/plain": [
              "<IPython.core.display.HTML object>"
            ]
          },
          "metadata": {
            "tags": []
          }
        }
      ]
    },
    {
      "cell_type": "code",
      "metadata": {
        "colab": {
          "base_uri": "https://localhost:8080/",
          "height": 851
        },
        "id": "FVJUREX6unvz",
        "outputId": "430cfc49-e337-47d3-bf82-d081a6693721"
      },
      "source": [
        "nfq_steps, nfq_r, nfq_score = result.T\n",
        "\n",
        "\n",
        "fig1 = plt.figure()\n",
        "ax1 = fig1.add_subplot(111)\n",
        "plt.plot(nfq_r, linewidth=2)\n",
        "plt.ylabel('Reward')\n",
        "plt.xlabel('Episode #')\n",
        "ax1.set_title('Avg Training Reward')\n",
        "\n",
        "\n",
        "fig2 = plt.figure()\n",
        "ax2 = fig2.add_subplot(111)\n",
        "plt.plot(nfq_score, linewidth=2)\n",
        "plt.ylabel('Reward')\n",
        "plt.xlabel('Episode #')\n",
        "ax2.set_title('Avg Evaluation Reward')\n",
        "\n",
        "fig3 = plt.figure()\n",
        "ax3 = fig3.add_subplot(111)\n",
        "plt.plot(nfq_steps, linewidth=2)\n",
        "plt.ylabel('Steps')\n",
        "plt.xlabel('Episode #')\n",
        "ax3.set_title('Total Steps')\n",
        "\n",
        "\n",
        "plt.show()"
      ],
      "execution_count": null,
      "outputs": [
        {
          "output_type": "display_data",
          "data": {
            "image/png": "[encoded data removed]",
            "text/plain": [
              "<Figure size 432x288 with 1 Axes>"
            ]
          },
          "metadata": {
            "tags": [],
            "needs_background": "light"
          }
        },
        {
          "output_type": "display_data",
          "data": {
            "image/png": "[encoded data removed]",
            "text/plain": [
              "<Figure size 432x288 with 1 Axes>"
            ]
          },
          "metadata": {
            "tags": [],
            "needs_background": "light"
          }
        },
        {
          "output_type": "display_data",
          "data": {
            "image/png": "[encoded data removed]",
            "text/plain": [
              "<Figure size 432x288 with 1 Axes>"
            ]
          },
          "metadata": {
            "tags": [],
            "needs_background": "light"
          }
        }
      ]
    }
  ]
}